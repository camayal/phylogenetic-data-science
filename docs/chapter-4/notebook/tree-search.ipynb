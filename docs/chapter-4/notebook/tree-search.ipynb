{
 "cells": [
  {
   "cell_type": "markdown",
   "id": "2c3982a1-05d0-4a87-a5d5-77dabed82f63",
   "metadata": {},
   "source": [
    "# Heuristic search"
   ]
  },
  {
   "cell_type": "code",
   "execution_count": null,
   "id": "7a9ab79c-5a6b-43e7-8b56-9e43340c7183",
   "metadata": {},
   "outputs": [],
   "source": [
    "import matplotlib.pyplot as plt\n",
    "import numpy as np\n",
    "import itertools\n",
    "import random\n",
    "\n",
    "def heuristic_search(max_iterations=100, \n",
    "                     space=(0,1,20), \n",
    "                     xi=None, \n",
    "                     yi=None, \n",
    "                     plot_reds=False, \n",
    "                     plot_only_last=False, \n",
    "                     seed=None):\n",
    "    \n",
    "    rng = np.random.default_rng(seed)\n",
    "    iteration = 0\n",
    "    \n",
    "    def plot():\n",
    "        fig = plt.figure(figsize=(13, 13))\n",
    "        ax = plt.axes(projection='3d')\n",
    "        ax.scatter(a, b, c, c='black', marker='o', depthshade=False, s=80) \n",
    "        ax.plot_surface(X, Y, Z, rstride = 1, cstride = 1, cmap = 'jet', alpha=0.5)\n",
    "        ax.scatter(X, Y, Z, marker='.', depthshade=False, s=10, alpha=0.5, c=\"gray\")  \n",
    "        if iteration > 0 and plot_reds:\n",
    "            ax.scatter(reds[0], reds[1], reds[2], marker='o', depthshade=False, s=40, alpha=1.0, c=\"red\")\n",
    "        ax.scatter(ca, cb, cc, c='black', marker='o', depthshade=False, s=200, alpha=1.0)  \n",
    "              \n",
    "\n",
    "        ax.xaxis.set_ticklabels([])\n",
    "        ax.yaxis.set_ticklabels([])\n",
    "        ax.zaxis.set_ticklabels([])\n",
    "        ax.grid(False)\n",
    "        ax.view_init(30, 20)\n",
    "\n",
    "    \n",
    "    def get_z(u,w):\n",
    "        return np.sin(np.pi*u)*np.sin(np.pi*w)\n",
    "#         return abs(u-w)\n",
    "#         return np.cos(u) * np.cos(w) * np.exp(-np.sqrt(u**2 + w**2)) / 4\n",
    "#         return u * np.exp(-u**2 - w**2)\n",
    "#         return u**2 - w**2\n",
    "    \n",
    "    def max_z():\n",
    "        next_x, prev_x, next_y, prev_y = xi, xi, yi, yi\n",
    "        \n",
    "        if xi+1 < len(X[0]):\n",
    "            next_x = xi+1\n",
    "        if xi-1 >= 0:\n",
    "            prev_x = xi-1\n",
    "        if yi+1 < len(Y[0]):\n",
    "            next_y = yi+1\n",
    "        if yi-1 >= 0:\n",
    "            prev_y = yi-1\n",
    "        \n",
    "        tz = -np.inf\n",
    "        nxi = xi\n",
    "        nyi = yi\n",
    "        perm = itertools.product((next_x, prev_x), (next_y, prev_y))\n",
    "        for i in perm:\n",
    "            nz = get_z(X[0][i[0]],Y[i[1]][0])\n",
    "            \n",
    "            for k, n in enumerate([X[0][i[0]],Y[i[1]][0], nz]):\n",
    "                    reds[k].append(n)\n",
    "                        \n",
    "            if nz >= tz:\n",
    "                nxi = i[0]\n",
    "                nyi = i[1]\n",
    "                tz = nz\n",
    "            \n",
    "\n",
    "        \n",
    "        return nxi, nyi\n",
    "    \n",
    "    x_space = np.linspace(*space)\n",
    "    y_space = np.linspace(*space)\n",
    "    X, Y = np.meshgrid(x_space, y_space)\n",
    "    Z = get_z(X, Y)\n",
    "\n",
    "    if xi == None:\n",
    "        xi = rng.integers(0,space[2]-1)\n",
    "    if yi == None:\n",
    "        yi = rng.integers(0,space[2]-1)\n",
    "\n",
    "    a = []\n",
    "    b = []\n",
    "    c = []\n",
    "    \n",
    "    ca = X[0][xi]\n",
    "    cb = Y[yi][0]\n",
    "    cc = get_z(ca, cb)\n",
    "    \n",
    "    reds = [[],[],[]]\n",
    "    \n",
    "    while iteration <= max_iterations:\n",
    "        iteration += 1\n",
    "        a.append(ca)\n",
    "        b.append(cb)\n",
    "        c.append(cc)\n",
    "        \n",
    "        if plot_only_last:\n",
    "            if iteration == max_iterations:\n",
    "                 plot()\n",
    "        else:\n",
    "            yield plot()\n",
    "        \n",
    "\n",
    "        xi, yi = max_z()\n",
    "        \n",
    "        ca = X[0][xi]\n",
    "        cb = Y[yi][0]\n",
    "        cc = get_z(ca, cb)\n",
    "        \n",
    "        \n",
    "\n"
   ]
  },
  {
   "cell_type": "markdown",
   "id": "709bf088-d877-4678-b030-6fe50af10fd1",
   "metadata": {},
   "source": [
    "## Schematic representation of a generic heuristic search"
   ]
  },
  {
   "cell_type": "code",
   "execution_count": null,
   "id": "e8679cd3-0309-412d-ba6c-0d8924898203",
   "metadata": {},
   "outputs": [],
   "source": [
    "hs = heuristic_search(space=(-1,0.4,20), xi=17, yi=9)"
   ]
  },
  {
   "cell_type": "code",
   "execution_count": null,
   "id": "1ba746ea-ea7d-4637-b532-cb7e8912c0bd",
   "metadata": {},
   "outputs": [],
   "source": [
    "next(hs)"
   ]
  },
  {
   "cell_type": "markdown",
   "id": "e887bb4b-b87c-496e-88c9-460b0e769889",
   "metadata": {},
   "source": [
    "The explored space is significantly smaller in compairison with a exhaustive search"
   ]
  },
  {
   "cell_type": "code",
   "execution_count": null,
   "id": "9237b7c9-a01c-42d0-8429-ac5a44ff80f9",
   "metadata": {},
   "outputs": [],
   "source": [
    "hs = heuristic_search(space=(-1,0.4,20), xi=17, yi=9, plot_only_last=True, plot_reds=True)\n",
    "for i in hs: pass"
   ]
  },
  {
   "cell_type": "markdown",
   "id": "7355e1d9-3e8c-4998-b946-31387dd7cf73",
   "metadata": {},
   "source": [
    "Some other caveats"
   ]
  },
  {
   "cell_type": "code",
   "execution_count": null,
   "id": "9acd86bc-6d65-4a40-8f8e-191692eba493",
   "metadata": {},
   "outputs": [],
   "source": [
    "#random start limitations\n",
    "hs = heuristic_search(space=(-1,0.4,20), xi=10, yi=18)"
   ]
  },
  {
   "cell_type": "code",
   "execution_count": null,
   "id": "f635fd33-a12a-4f07-af0a-fc6b3dd8d20b",
   "metadata": {},
   "outputs": [],
   "source": [
    "next(hs)"
   ]
  },
  {
   "cell_type": "code",
   "execution_count": null,
   "id": "6bce12e0-cd4d-4498-bdc5-1985a2696ebc",
   "metadata": {},
   "outputs": [],
   "source": [
    "# big space and number of iterations\n",
    "hs = heuristic_search(max_iterations=15, space=(-1,0.4,100), plot_only_last=True)\n",
    "for i in hs: pass"
   ]
  },
  {
   "cell_type": "code",
   "execution_count": null,
   "id": "69a2d0f0-616f-4df3-9f04-2bd24a0f72f1",
   "metadata": {},
   "outputs": [],
   "source": []
  },
  {
   "cell_type": "code",
   "execution_count": null,
   "id": "dc45fe8c-d6da-482b-b359-515ea8e00f99",
   "metadata": {},
   "outputs": [],
   "source": []
  },
  {
   "cell_type": "code",
   "execution_count": null,
   "id": "b423d680-b819-4155-aed6-8ff0ca377c39",
   "metadata": {},
   "outputs": [],
   "source": []
  },
  {
   "cell_type": "code",
   "execution_count": null,
   "id": "d8d863ab-9d76-4b42-8606-562f849b942c",
   "metadata": {},
   "outputs": [],
   "source": []
  },
  {
   "cell_type": "code",
   "execution_count": null,
   "id": "adafdd25-9d19-4627-a1e8-0cc745d66eef",
   "metadata": {},
   "outputs": [],
   "source": []
  },
  {
   "cell_type": "code",
   "execution_count": null,
   "id": "2951bb92-eec1-4bf9-9169-0709f39e2975",
   "metadata": {},
   "outputs": [],
   "source": []
  },
  {
   "cell_type": "code",
   "execution_count": null,
   "id": "6c9f16b6-0378-48ee-9cb3-f9d17b418c2c",
   "metadata": {},
   "outputs": [],
   "source": []
  },
  {
   "cell_type": "code",
   "execution_count": null,
   "id": "576b21d9-4af0-48cd-aea2-fbec707e3df7",
   "metadata": {},
   "outputs": [],
   "source": []
  },
  {
   "cell_type": "code",
   "execution_count": null,
   "id": "339fcce7-5463-4da6-8aa5-2a09de00d191",
   "metadata": {},
   "outputs": [],
   "source": []
  },
  {
   "cell_type": "code",
   "execution_count": null,
   "id": "f5645c25-682b-4350-bdf8-d2dd984159ba",
   "metadata": {},
   "outputs": [],
   "source": []
  },
  {
   "cell_type": "code",
   "execution_count": null,
   "id": "5c626890-15d1-4b1d-b70c-2cc76d12c10d",
   "metadata": {},
   "outputs": [],
   "source": []
  },
  {
   "cell_type": "code",
   "execution_count": null,
   "id": "11111932-b4d9-4a7a-92c0-32e19d3c33c3",
   "metadata": {},
   "outputs": [],
   "source": []
  },
  {
   "cell_type": "code",
   "execution_count": null,
   "id": "a65495f3-3e6d-42d0-b31a-250569028a07",
   "metadata": {},
   "outputs": [],
   "source": []
  },
  {
   "cell_type": "code",
   "execution_count": null,
   "id": "9f65aea8-307c-4d07-a367-8309e9519dc5",
   "metadata": {},
   "outputs": [],
   "source": []
  },
  {
   "cell_type": "code",
   "execution_count": null,
   "id": "fd1627e6-d03a-4dbc-827f-182dbc40a97f",
   "metadata": {},
   "outputs": [],
   "source": []
  },
  {
   "cell_type": "code",
   "execution_count": null,
   "id": "efae3b59-392b-451b-85f7-ef716ac0fb85",
   "metadata": {},
   "outputs": [],
   "source": []
  },
  {
   "cell_type": "code",
   "execution_count": null,
   "id": "cd49f0f6-a9a4-4e97-b8c6-871d56efa27a",
   "metadata": {},
   "outputs": [],
   "source": []
  },
  {
   "cell_type": "markdown",
   "id": "f41a6098-d3be-437c-9a1a-3438486209bc",
   "metadata": {},
   "source": [
    "# Nearest-neighbor interchanges (NNI)"
   ]
  },
  {
   "cell_type": "code",
   "execution_count": 441,
   "id": "ca7f4513-13ec-4324-9995-58be49ed5460",
   "metadata": {},
   "outputs": [
    {
     "name": "stdout",
     "output_type": "stream",
     "text": [
      "Interchanging Node(6) with Node(0)\n"
     ]
    },
    {
     "data": {
      "text/html": [
       "<div class=\"toyplot\" id=\"t6388abeb6f954c9889f0385e0b242eec\" style=\"text-align:center\"><svg class=\"toyplot-canvas-Canvas\" xmlns:toyplot=\"http://www.sandia.gov/toyplot\" xmlns:xlink=\"http://www.w3.org/1999/xlink\" xmlns=\"http://www.w3.org/2000/svg\" width=\"260.0px\" height=\"275.0px\" viewBox=\"0 0 260.0 275.0\" preserveAspectRatio=\"xMidYMid meet\" style=\"background-color:transparent;border-color:#292724;border-style:none;border-width:1.0;fill:rgb(16.1%,15.3%,14.1%);fill-opacity:1.0;font-family:Helvetica;font-size:12px;opacity:1.0;stroke:rgb(16.1%,15.3%,14.1%);stroke-opacity:1.0;stroke-width:1.0\" id=\"taca3873cc9824c87b24de9e237886b25\"><g class=\"toyplot-coordinates-Cartesian\" id=\"tb430d4b977bb41d4946962f4f138684a\"><clipPath id=\"tec6a8af0c4404ec2a82ddc5dbe04bc1a\"><rect x=\"35.0\" y=\"35.0\" width=\"190.0\" height=\"205.0\"></rect></clipPath><g clip-path=\"url(#tec6a8af0c4404ec2a82ddc5dbe04bc1a)\"><g class=\"toytree-mark-Toytree\" id=\"t697f3b0bacb6414d8950a9049f7774af\"><g class=\"toytree-Edges\" style=\"fill:none;stroke:rgba(16.1%,15.3%,14.1%,1.000);stroke-linecap:round;stroke-width:2.0\"><path d=\"M 94.8 197.9 L 94.8 218.1 L 173.5 218.1\" id=\"5,0\" style=\"stroke-width:nan\"></path><path d=\"M 94.8 197.9 L 94.8 177.8 L 173.5 177.8\" id=\"5,1\" style=\"stroke-width:nan\"></path><path d=\"M 94.8 107.3 L 94.8 137.5 L 173.5 137.5\" id=\"7,2\" style=\"stroke-width:nan\"></path><path d=\"M 134.2 77.1 L 134.2 97.2 L 173.5 97.2\" id=\"6,3\" style=\"stroke-width:nan\"></path><path d=\"M 134.2 77.1 L 134.2 56.9 L 173.5 56.9\" id=\"6,4\" style=\"stroke-width:nan\"></path><path d=\"M 55.5 152.6 L 55.5 197.9 L 94.8 197.9\" id=\"8,5\" style=\"stroke-width:nan\"></path><path d=\"M 94.8 107.3 L 94.8 77.1 L 134.2 77.1\" id=\"7,6\" style=\"stroke-width:nan\"></path><path d=\"M 55.5 152.6 L 55.5 107.3 L 94.8 107.3\" id=\"8,7\" style=\"stroke-width:nan\"></path></g><g class=\"toytree-Nodes\" style=\"fill:rgba(40.0%,76.1%,64.7%,1.000);stroke:#262626;stroke-width:1.0\"><g id=\"node-5\" transform=\"translate(94.842,197.944)\"><circle r=\"7.5\"></circle></g><g id=\"node-6\" transform=\"translate(134.156,77.056)\"><circle r=\"7.5\"></circle></g><g id=\"node-7\" transform=\"translate(94.842,107.278)\"><circle r=\"7.5\"></circle></g><g id=\"node-8\" transform=\"translate(55.528,152.611)\"><circle r=\"7.5\"></circle></g></g><g class=\"toytree-NodeLabels\" style=\"font-family:Helvetica;font-size:9.0px;font-weight:300;stroke:none;vertical-align:baseline;white-space:pre\"><g class=\"toytree-NodeLabel\" transform=\"translate(94.84208521839017,197.94407894736844)\"><text x=\"-2.5020000000000002\" y=\"2.2995\" style=\"fill:rgb(16.1%,15.3%,14.1%);fill-opacity:1.0\">5</text></g><g class=\"toytree-NodeLabel\" transform=\"translate(134.1556941769788,77.05592105263162)\"><text x=\"-2.5020000000000002\" y=\"2.2995\" style=\"fill:rgb(16.1%,15.3%,14.1%);fill-opacity:1.0\">6</text></g><g class=\"toytree-NodeLabel\" transform=\"translate(94.84208521839017,107.27796052631581)\"><text x=\"-2.5020000000000002\" y=\"2.2995\" style=\"fill:rgb(16.1%,15.3%,14.1%);fill-opacity:1.0\">7</text></g><g class=\"toytree-NodeLabel\" transform=\"translate(55.52847625980153,152.61101973684208)\"><text x=\"-2.5020000000000002\" y=\"2.2995\" style=\"fill:rgb(16.1%,15.3%,14.1%);fill-opacity:1.0\">8</text></g></g><g class=\"toytree-TipLabels\" style=\"fill:rgb(16.1%,15.3%,14.1%);fill-opacity:1.0;font-family:Helvetica;font-size:11.0px;font-weight:300;stroke:none;vertical-align:baseline;white-space:pre\"><g class=\"toytree-TipLabel\" transform=\"translate(173.46930313556743,218.09210526315792)\"><text x=\"15.0\" y=\"2.8104999999999993\" style=\"\">r0</text></g><g class=\"toytree-TipLabel\" transform=\"translate(173.46930313556743,177.79605263157893)\"><text x=\"15.0\" y=\"2.8104999999999993\" style=\"\">r1</text></g><g class=\"toytree-TipLabel\" transform=\"translate(173.46930313556743,137.50000000000003)\"><text x=\"15.0\" y=\"2.8104999999999993\" style=\"\">r2</text></g><g class=\"toytree-TipLabel\" transform=\"translate(173.46930313556743,97.20394736842107)\"><text x=\"15.0\" y=\"2.8104999999999993\" style=\"\">r3</text></g><g class=\"toytree-TipLabel\" transform=\"translate(173.46930313556743,56.90789473684211)\"><text x=\"15.0\" y=\"2.8104999999999993\" style=\"\">r4</text></g></g></g></g></g></svg><div class=\"toyplot-behavior\"><script>(function()\n",
       "{\n",
       "var modules={};\n",
       "})();</script></div></div>"
      ]
     },
     "metadata": {},
     "output_type": "display_data"
    },
    {
     "data": {
      "text/html": [
       "<div class=\"toyplot\" id=\"tbe1dc2ca11984828a63f0c106a56b17d\" style=\"text-align:center\"><svg class=\"toyplot-canvas-Canvas\" xmlns:toyplot=\"http://www.sandia.gov/toyplot\" xmlns:xlink=\"http://www.w3.org/1999/xlink\" xmlns=\"http://www.w3.org/2000/svg\" width=\"260.0px\" height=\"275.0px\" viewBox=\"0 0 260.0 275.0\" preserveAspectRatio=\"xMidYMid meet\" style=\"background-color:transparent;border-color:#292724;border-style:none;border-width:1.0;fill:rgb(16.1%,15.3%,14.1%);fill-opacity:1.0;font-family:Helvetica;font-size:12px;opacity:1.0;stroke:rgb(16.1%,15.3%,14.1%);stroke-opacity:1.0;stroke-width:1.0\" id=\"t6ffe0351666d44b9bb4d087e5a6b2215\"><g class=\"toyplot-coordinates-Cartesian\" id=\"t01c9ace6e7d541f7b91ce1ac093fae2e\"><clipPath id=\"ta5a6adbbd6d240a38be687606d877e7a\"><rect x=\"35.0\" y=\"35.0\" width=\"190.0\" height=\"205.0\"></rect></clipPath><g clip-path=\"url(#ta5a6adbbd6d240a38be687606d877e7a)\"><g class=\"toytree-mark-Toytree\" id=\"tb05e4a79fd6c44e6bc61f194724b69f9\"><g class=\"toytree-Edges\" style=\"fill:none;stroke:rgba(16.1%,15.3%,14.1%,1.000);stroke-linecap:round;stroke-width:2.0\"><path d=\"M 94.8 187.9 L 94.8 218.1 L 173.5 218.1\" id=\"6,0\" style=\"stroke-width:nan\"></path><path d=\"M 134.2 157.6 L 134.2 177.8 L 173.5 177.8\" id=\"5,1\" style=\"stroke-width:nan\"></path><path d=\"M 134.2 157.6 L 134.2 137.5 L 173.5 137.5\" id=\"5,2\" style=\"stroke-width:nan\"></path><path d=\"M 134.2 77.1 L 134.2 97.2 L 173.5 97.2\" id=\"7,3\" style=\"stroke-width:nan\"></path><path d=\"M 134.2 77.1 L 134.2 56.9 L 173.5 56.9\" id=\"7,4\" style=\"stroke-width:nan\"></path><path d=\"M 134.2 157.6 L 134.2 157.6 L 134.2 157.6\" id=\"5,5\" style=\"stroke-width:nan\"></path><path d=\"M 55.5 132.5 L 55.5 187.9 L 94.8 187.9\" id=\"8,6\" style=\"stroke-width:nan\"></path><path d=\"M 55.5 132.5 L 55.5 77.1 L 134.2 77.1\" id=\"8,7\" style=\"stroke-width:nan\"></path></g><g class=\"toytree-Nodes\" style=\"fill:rgba(40.0%,76.1%,64.7%,1.000);stroke:#262626;stroke-width:1.0\"><g id=\"node-5\" transform=\"translate(134.156,157.648)\"><circle r=\"7.5\"></circle></g><g id=\"node-6\" transform=\"translate(94.842,187.870)\"><circle r=\"7.5\"></circle></g><g id=\"node-7\" transform=\"translate(134.156,77.056)\"><circle r=\"7.5\"></circle></g><g id=\"node-8\" transform=\"translate(55.528,132.463)\"><circle r=\"7.5\"></circle></g></g><g class=\"toytree-NodeLabels\" style=\"font-family:Helvetica;font-size:9.0px;font-weight:300;stroke:none;vertical-align:baseline;white-space:pre\"><g class=\"toytree-NodeLabel\" transform=\"translate(134.1556941769788,157.64802631578948)\"><text x=\"-2.5020000000000002\" y=\"2.2995\" style=\"fill:rgb(16.1%,15.3%,14.1%);fill-opacity:1.0\">5</text></g><g class=\"toytree-NodeLabel\" transform=\"translate(94.84208521839017,187.8700657894737)\"><text x=\"-2.5020000000000002\" y=\"2.2995\" style=\"fill:rgb(16.1%,15.3%,14.1%);fill-opacity:1.0\">6</text></g><g class=\"toytree-NodeLabel\" transform=\"translate(134.1556941769788,77.05592105263162)\"><text x=\"-2.5020000000000002\" y=\"2.2995\" style=\"fill:rgb(16.1%,15.3%,14.1%);fill-opacity:1.0\">7</text></g><g class=\"toytree-NodeLabel\" transform=\"translate(55.52847625980153,132.46299342105266)\"><text x=\"-2.5020000000000002\" y=\"2.2995\" style=\"fill:rgb(16.1%,15.3%,14.1%);fill-opacity:1.0\">8</text></g></g><g class=\"toytree-TipLabels\" style=\"fill:rgb(16.1%,15.3%,14.1%);fill-opacity:1.0;font-family:Helvetica;font-size:11.0px;font-weight:300;stroke:none;vertical-align:baseline;white-space:pre\"><g class=\"toytree-TipLabel\" transform=\"translate(173.46930313556743,218.09210526315792)\"><text x=\"15.0\" y=\"2.8104999999999993\" style=\"\">r1</text></g><g class=\"toytree-TipLabel\" transform=\"translate(173.46930313556743,177.79605263157893)\"><text x=\"15.0\" y=\"2.8104999999999993\" style=\"\">r3</text></g><g class=\"toytree-TipLabel\" transform=\"translate(173.46930313556743,137.50000000000003)\"><text x=\"15.0\" y=\"2.8104999999999993\" style=\"\">r4</text></g><g class=\"toytree-TipLabel\" transform=\"translate(173.46930313556743,97.20394736842107)\"><text x=\"15.0\" y=\"2.8104999999999993\" style=\"\">r2</text></g><g class=\"toytree-TipLabel\" transform=\"translate(173.46930313556743,56.90789473684211)\"><text x=\"15.0\" y=\"2.8104999999999993\" style=\"\">r0</text></g></g></g></g></g></svg><div class=\"toyplot-behavior\"><script>(function()\n",
       "{\n",
       "var modules={};\n",
       "})();</script></div></div>"
      ]
     },
     "metadata": {},
     "output_type": "display_data"
    }
   ],
   "source": [
    "def nni(tree, \n",
    "        seed=None, \n",
    "        highlight=False, \n",
    "        force=(-1, -1)\n",
    "       ) -> ToyTree:\n",
    "    \n",
    "    tree = tree.copy()\n",
    "    rng = np.random.default_rng(seed)\n",
    "    \n",
    "    \n",
    "    # randomly select first subtree (any non-root Node)\n",
    "    f_idx = rng.choice(tree.nnodes - 1)  \n",
    "    if force[0] >= 0: f_idx = force[0] #overwrite random selection\n",
    "    \n",
    "    subtree_a = tree[f_idx]\n",
    "    tips_a = subtree_a.get_leaf_names()\n",
    "    \n",
    "   \n",
    "      \n",
    "    # Check available nodes to select second subtree\n",
    "    # It should follow the following statements\n",
    "    available_nodes = (\n",
    "        set(range(tree.nnodes - 1)) # set with all possible nodes but the root\n",
    "        - set((i._idx for i in subtree_a._iter_descendants())) # remove descendants of subtree\n",
    "        - set((i._idx for i in subtree_a._iter_sisters())) # remove sisters of subtree (to avoid uninformative interchange)\n",
    "        - set((subtree_a._up._idx, )) # remove  parental of subtree (to avoid pick a subtree with subtree_a in there)\n",
    "        - set((subtree_a._idx, )) # remove subtree node itself\n",
    "    )\n",
    "    \n",
    "    \n",
    "    if not available_nodes:\n",
    "        print(f\"No possible interchange if {subtree_a!r} is selected\")\n",
    "        return None\n",
    "    \n",
    "    # randomly select second subtree to interchange\n",
    "    s_idx = rng.choice(list(available_nodes))\n",
    "    if force[1] >= 0: s_idx = force[1] #overwrite random selection\n",
    "    \n",
    "    subtree_b = tree[s_idx]\n",
    "    tips_b = subtree_b.get_leaf_names()\n",
    "\n",
    "    \n",
    "    print(f\"Interchanging {subtree_a!r} with {subtree_b!r}\")\n",
    "    \n",
    "\n",
    "# V. 1 (SEMIFUNCTIONAL)\n",
    "    # Idea is not working completly, sometimes fails\n",
    "    #remove subtrees from parentals (both subtrees)\n",
    "    #add each subtree into the opposite parental\n",
    "    #update moved subtrees up argument\n",
    "\n",
    "\n",
    "    \n",
    "    # Get children of parental of subtree a and remove subtree a from it\n",
    "    a_up_children = list(subtree_a._up.children)\n",
    "    a_up_children.remove(subtree_a)\n",
    "    a_up_children.append(subtree_b)\n",
    "    subtree_a._up._children = tuple(a_up_children)\n",
    "    \n",
    "    \n",
    "    \n",
    "#     # Get children of parental of subtree b and remove subtree b from it\n",
    "    b_up_children = list(subtree_b._up.children)\n",
    "    b_up_children.remove(subtree_b)\n",
    "    b_up_children.append(subtree_a)\n",
    "    subtree_b._up._children = tuple(b_up_children)\n",
    "         \n",
    "\n",
    "    # Put subtrees parentals in temporal vars\n",
    "    old_a_up = subtree_a.up.copy()\n",
    "    old_b_up = subtree_b.up.copy()\n",
    "    \n",
    "    # Break the connection of each subtree with their original parental\n",
    "    # by replacing with the opposite\n",
    "    subtree_a._up = old_b_up\n",
    "    subtree_b._up = old_a_up\n",
    "   \n",
    "    \n",
    "    \n",
    "# V.2 (NOT WORKING)\n",
    "# same approach but using built in methods \n",
    "# #     # Get children of parental of subtree a and remove subtree a from it\n",
    "#     subtree_a.up._remove_child(subtree_a)\n",
    "#     subtree_a.up._add_child(subtree_b)\n",
    "    \n",
    "# # #     # Get children of parental of subtree b and remove subtree b from it\n",
    "#     subtree_b.up._remove_child(subtree_b)\n",
    "#     subtree_b.up._add_child(subtree_a)\n",
    "         \n",
    "#     # Put subtrees parentals in temporal vars\n",
    "#     old_a_up = subtree_a.up.copy()\n",
    "#     old_b_up = subtree_b.up.copy()\n",
    "    \n",
    "#     # Break the connection of each subtree with their original parental\n",
    "#     # by replacing with the opposite\n",
    "#     subtree_a._up = old_b_up\n",
    "#     subtree_b._up = old_a_up\n",
    "\n",
    "    \n",
    "\n",
    "# V.3 (NOT WORKING) \n",
    "#     ### new try\n",
    "#     # create two empty nodes where we can put the children but the subtree removed\n",
    "#     parental_new_a = toytree.Node(\"pna\")\n",
    "#     parental_new_b = toytree.Node(\"pnb\")\n",
    "    \n",
    "#     # add children without considering the subtree interchanged\n",
    "#     for child in subtree_a.up.children:\n",
    "#         if child != subtree_a:\n",
    "#             parental_new_a._add_child(child)\n",
    "    \n",
    "#     for child in subtree_b.up.children:\n",
    "#         if child != subtree_b:\n",
    "#             parental_new_b._add_child(child)\n",
    "    \n",
    "    \n",
    "#     # add to each new parental node the swapping subtree\n",
    "#     parental_new_a._add_child(subtree_b)\n",
    "#     parental_new_b._add_child(subtree_a)\n",
    "    \n",
    "#     # update up argument for all children in each new parental node\n",
    "#     for p in [parental_new_a, parental_new_b]:\n",
    "#         for child in p.children:\n",
    "#             child._up = p\n",
    "    \n",
    "    \n",
    "\n",
    "# V.4 (NOT WORKING)\n",
    "# This idea is not working  \n",
    "#     # Create new nodes to replace the parantes of subtree\n",
    "#     new_parental_a = toytree.Node(\"new_a\")    # create a unlinked node\n",
    "#     for child in subtree_a.up.children:       # add all nodes but the original swapping node\n",
    "#         if child != subtree_a:\n",
    "#             new_parental_a._add_child(child)\n",
    "# #     new_parental_a._add_child(subtree_b)      # add the opposite swapping node\n",
    "# #     new_parental_a._up = subtree_a._up._up    # copy parental of parental to new node\n",
    "    \n",
    "#     # same that before but this time for subtree b\n",
    "#     new_parental_b = toytree.Node(\"new_b\")   \n",
    "#     for child in subtree_b.up.children:\n",
    "#         if child != subtree_b:\n",
    "#             new_parental_b._add_child(child)\n",
    "# #     new_parental_b._add_child(subtree_a)\n",
    "# #     new_parental_b._up = subtree_b._up._up\n",
    "       \n",
    "#     # replace with the new ones\n",
    "# #     subtree_a._up = new_parental_a\n",
    "# #     subtree_b._up = new_parental_b\n",
    "    \n",
    "    \n",
    "    \n",
    "    tree._update()\n",
    "    \n",
    "    \n",
    "    tree.style.node_sizes = 15\n",
    "    tree.style.node_labels = \"idx\"\n",
    "    \n",
    "    if highlight:\n",
    "        tree.style.edge_colors = ['black'] * tree.nnodes\n",
    "        tree.style.node_colors = ['white'] * tree.nnodes\n",
    "        tree.style.node_style.stroke_width = 1.5\n",
    "        tree.style.node_sizes = 8\n",
    "        tree.style.node_labels = \"idx\"\n",
    "        tree.style.node_labels_style.font_size = 12\n",
    "        tree.style.node_labels_style._toyplot_anchor_shift = -12\n",
    "        tree.style.node_labels_style.baseline_shift = 9\n",
    "        tree.style.use_edge_lengths = False\n",
    "        \n",
    "        \n",
    "        \n",
    "        for it, subtree in enumerate([subtree_a, subtree_b]):\n",
    "            for node in subtree._iter_descendants():\n",
    "                tree.style.edge_colors[node.idx] = toytree.color.COLORS2[it]\n",
    "                tree.style.node_colors[node.idx] = toytree.color.COLORS2[it]\n",
    "                    \n",
    "   \n",
    "    tree.style.use_edge_lengths = False\n",
    "    \n",
    "    return tree\n",
    "\n",
    "tree = toytree.rtree.unittree(5, seed=42)\n",
    "tree.draw(node_labels=\"idx\", node_sizes=15)\n",
    "tresult = nni(tree, highlight=False, seed=42, force=(6,0))\n",
    "if tresult: tresult.draw();"
   ]
  },
  {
   "cell_type": "code",
   "execution_count": null,
   "id": "39835b4c-bc15-445f-bf5f-1ae37419e637",
   "metadata": {},
   "outputs": [],
   "source": [
    "tresult.get_node_data()"
   ]
  },
  {
   "cell_type": "code",
   "execution_count": null,
   "id": "6da2a982-8afd-44f2-9c91-c6a0b25ca195",
   "metadata": {},
   "outputs": [],
   "source": []
  },
  {
   "cell_type": "code",
   "execution_count": 444,
   "id": "829942d3-8907-4aa1-b029-bfc2a8da4504",
   "metadata": {},
   "outputs": [],
   "source": [
    "tips = 3\n",
    "total_neighbors = 2 * (tips - 3) \n",
    "\n",
    "\n",
    "\n",
    "#rearrange\n",
    "#if lazy mode -> pick the first best tree (fast but innacurate)\n",
    "#if normal mode -> retain all trees\n",
    "#if tie: pick every tie tree and rearrange (2nd level of neighbors)"
   ]
  },
  {
   "cell_type": "code",
   "execution_count": null,
   "id": "2cafa5f3-389f-4c1a-82a7-3eeb2a4ee1cc",
   "metadata": {},
   "outputs": [],
   "source": []
  },
  {
   "cell_type": "code",
   "execution_count": null,
   "id": "0f9f001e-61fb-471c-9f52-8e9acac37f45",
   "metadata": {},
   "outputs": [],
   "source": []
  },
  {
   "cell_type": "code",
   "execution_count": null,
   "id": "67fc501c-9557-4fcd-be8a-92c7c5495809",
   "metadata": {},
   "outputs": [],
   "source": []
  },
  {
   "cell_type": "code",
   "execution_count": null,
   "id": "54616eed-16de-4ac6-b672-c4d6100a7797",
   "metadata": {},
   "outputs": [],
   "source": []
  },
  {
   "cell_type": "code",
   "execution_count": null,
   "id": "504b4a2b-902d-43bd-a65a-64195db21285",
   "metadata": {},
   "outputs": [],
   "source": []
  },
  {
   "cell_type": "code",
   "execution_count": null,
   "id": "354cf294-3c60-4c58-a908-f3fa118f61f0",
   "metadata": {},
   "outputs": [],
   "source": []
  },
  {
   "cell_type": "code",
   "execution_count": null,
   "id": "5d5ad465-34f4-4ab8-b9c2-ec2d0f6b4cfa",
   "metadata": {},
   "outputs": [],
   "source": []
  },
  {
   "cell_type": "code",
   "execution_count": null,
   "id": "461923e3-54b8-4225-8a90-8fe093cf2a18",
   "metadata": {},
   "outputs": [],
   "source": []
  },
  {
   "cell_type": "code",
   "execution_count": null,
   "id": "e17060ff-a4bc-435c-8539-fb24d471ed0a",
   "metadata": {},
   "outputs": [],
   "source": []
  },
  {
   "cell_type": "code",
   "execution_count": null,
   "id": "562cbc23-c003-4563-87d5-08fd934504ab",
   "metadata": {},
   "outputs": [],
   "source": []
  },
  {
   "cell_type": "code",
   "execution_count": null,
   "id": "b9e0675d-d785-463f-9249-db983501ea64",
   "metadata": {},
   "outputs": [],
   "source": []
  },
  {
   "cell_type": "code",
   "execution_count": null,
   "id": "b1d22240-2cce-4dec-9198-7c6669c95a30",
   "metadata": {},
   "outputs": [],
   "source": []
  },
  {
   "cell_type": "markdown",
   "id": "340cdc1f-2639-448d-b9c5-cfd61dd8d5f6",
   "metadata": {},
   "source": [
    "# Subtree pruning and regrafting (SPR)"
   ]
  },
  {
   "cell_type": "code",
   "execution_count": 396,
   "id": "1601bb0b-b585-48fa-b19a-097665ceb5dc",
   "metadata": {},
   "outputs": [],
   "source": [
    "from typing import Optional, TypeVar\n",
    "import numpy as np\n",
    "import toytree\n",
    "\n",
    "\n",
    "logger = logger.bind(name=\"toytree\")\n",
    "ToyTree = TypeVar(\"ToyTree\")\n",
    "\n",
    "def spr(\n",
    "    tree: ToyTree,\n",
    "    seed: Optional[int]=None,\n",
    "    highlight: bool=False,\n",
    "    ) -> ToyTree:\n",
    "    \"\"\"Return a rooted ToyTree one SPR move from the current tree.\n",
    "    The returned tree will have a different topology from the starting\n",
    "    tree, at an SPR distance of 1. It randomly samples a subtree to\n",
    "    extract from the tree, and then reinserts the subtree at an edge\n",
    "    that is not (1) one of its descendants; (2) its sister; (3) its\n",
    "    parent; or (4) itself.\n",
    "    Parameters\n",
    "    ----------\n",
    "    ...\n",
    "    Examples\n",
    "    --------\n",
    "    >>> ...\n",
    "    \"\"\"\n",
    "    tree = tree.copy()\n",
    "    rng = np.random.default_rng(seed)\n",
    "\n",
    "    # randomly select a subtree (any non-root Node)\n",
    "    sidx = rng.choice(tree.nnodes - 1)\n",
    "    subtree = tree[sidx]\n",
    "\n",
    "    # get list of Nodes (edges) where subtree can be inserted. This\n",
    "    # cannot be root, or a desc on the subtree Node, or the subtree itself.\n",
    "    edges = (\n",
    "        set(range(tree.nnodes)) \n",
    "        - set((i._idx for i in subtree._iter_descendants())) \n",
    "        - set((i._idx for i in subtree._iter_sisters())) \n",
    "        - set((subtree._up._idx, )) \n",
    "        - set((subtree._idx, ))\n",
    "    )\n",
    "\n",
    "    # sample an edge by its descendant Node\n",
    "    new_sister = tree[rng.choice(list(edges))]\n",
    "    print(f\"Prunning {subtree!r} to regrafting in {new_sister!r}\")\n",
    "\n",
    "    # connect subtree to new sister by inserting a new Node\n",
    "    new_node = toytree.Node(\"new\")\n",
    "    new_node_parent = new_sister._up\n",
    "    new_node._up = new_node_parent\n",
    "    new_node._children = (subtree, new_sister)\n",
    "    \n",
    "    old_node = subtree._up\n",
    "    old_node_parent = old_node._up\n",
    "    \n",
    "    # remove 12 and connect 11 to 14\n",
    "    old_node._remove_child(subtree)\n",
    "    if old_node_parent:\n",
    "        old_node_parent._remove_child(old_node)\n",
    "        for child in old_node._children:\n",
    "            old_node_parent._add_child(child)\n",
    "#             child._dist += old_node._dist   ## why is this in here?\n",
    "    del old_node\n",
    "\n",
    "    # connect subtree to tree   \n",
    "    subtree._up = new_node\n",
    "    new_sister._up = new_node\n",
    "    if new_node_parent:\n",
    "        new_node_parent._remove_child(new_sister)\n",
    "        new_node_parent._add_child(new_node)\n",
    "\n",
    "    # if old root is now a singleton b/c new_sister is one of its children\n",
    "    if len(tree.treenode.children) == 1:\n",
    "        tree.treenode = tree.treenode.children[0]\n",
    "        oldroot = tree.treenode._up\n",
    "        tree.treenode._up = None\n",
    "        del oldroot\n",
    "\n",
    "    # if new_sister is now the root.\n",
    "    elif new_sister == tree.treenode:\n",
    "        tree.treenode = new_node\n",
    "        \n",
    "        \n",
    "    tree._update()\n",
    "\n",
    "    # optional: color edges of the subtree that was moved.\n",
    "    if highlight:\n",
    "        tree.style.edge_colors = ['black'] * tree.nnodes\n",
    "        tree.style.node_colors = ['white'] * tree.nnodes\n",
    "        tree.style.node_style.stroke_width = 1.5\n",
    "        tree.style.node_sizes = 8\n",
    "        tree.style.node_labels = \"idx\"\n",
    "        tree.style.node_labels_style.font_size = 12\n",
    "        tree.style.node_labels_style._toyplot_anchor_shift = -12\n",
    "        tree.style.node_labels_style.baseline_shift = 9\n",
    "        tree.style.use_edge_lengths = False\n",
    "\n",
    "        # tree.get_mrca_node(*tips)\n",
    "        for node in subtree._iter_descendants():\n",
    "            tree.style.edge_colors[node.idx] = toytree.color.COLORS2[3]\n",
    "            tree.style.node_colors[node.idx] = toytree.color.COLORS2[3]\n",
    "        tree.style.node_colors[new_node.idx] = toytree.color.COLORS2[3]\n",
    "    return tree"
   ]
  },
  {
   "cell_type": "code",
   "execution_count": 409,
   "id": "6bb59979-4b75-4bb7-a53c-acf8340adf2b",
   "metadata": {},
   "outputs": [
    {
     "name": "stdout",
     "output_type": "stream",
     "text": [
      "Prunning Node(8) to regrafting in Node(4)\n"
     ]
    },
    {
     "data": {
      "text/html": [
       "<div class=\"toyplot\" id=\"t57672b04da9c4a4cb3d85e9703ee0c75\" style=\"text-align:center\"><svg class=\"toyplot-canvas-Canvas\" xmlns:toyplot=\"http://www.sandia.gov/toyplot\" xmlns:xlink=\"http://www.w3.org/1999/xlink\" xmlns=\"http://www.w3.org/2000/svg\" width=\"260.0px\" height=\"275.0px\" viewBox=\"0 0 260.0 275.0\" preserveAspectRatio=\"xMidYMid meet\" style=\"background-color:transparent;border-color:#292724;border-style:none;border-width:1.0;fill:rgb(16.1%,15.3%,14.1%);fill-opacity:1.0;font-family:Helvetica;font-size:12px;opacity:1.0;stroke:rgb(16.1%,15.3%,14.1%);stroke-opacity:1.0;stroke-width:1.0\" id=\"t38805456538f4584ba42a46f218123a2\"><g class=\"toyplot-coordinates-Cartesian\" id=\"t4a009136ae4b47b9ace70fd2668bac9e\"><clipPath id=\"tb043609c183946ca9264306f8033eb10\"><rect x=\"35.0\" y=\"35.0\" width=\"190.0\" height=\"205.0\"></rect></clipPath><g clip-path=\"url(#tb043609c183946ca9264306f8033eb10)\"><g class=\"toytree-mark-Toytree\" id=\"t09656026adce4ef59de76306703d2fd4\"><g class=\"toytree-Edges\" style=\"fill:none;stroke:rgba(16.1%,15.3%,14.1%,1.000);stroke-linecap:round;stroke-width:2.0\"><path d=\"M 134.2 204.7 L 134.2 218.1 L 173.5 218.1\" id=\"7,0\" style=\"stroke-width:nan\"></path><path d=\"M 134.2 204.7 L 134.2 191.2 L 173.5 191.2\" id=\"7,1\" style=\"stroke-width:nan\"></path><path d=\"M 94.8 184.5 L 94.8 164.4 L 173.5 164.4\" id=\"8,2\" style=\"stroke-width:nan\"></path><path d=\"M 134.2 124.1 L 134.2 137.5 L 173.5 137.5\" id=\"9,3\" style=\"stroke-width:nan\"></path><path d=\"M 134.2 124.1 L 134.2 110.6 L 173.5 110.6\" id=\"9,4\" style=\"stroke-width:nan\"></path><path d=\"M 134.2 70.3 L 134.2 83.8 L 173.5 83.8\" id=\"10,5\" style=\"stroke-width:nan\"></path><path d=\"M 134.2 70.3 L 134.2 56.9 L 173.5 56.9\" id=\"10,6\" style=\"stroke-width:nan\"></path><path d=\"M 94.8 184.5 L 94.8 204.7 L 134.2 204.7\" id=\"8,7\" style=\"stroke-width:nan\"></path><path d=\"M 55.5 140.9 L 55.5 184.5 L 94.8 184.5\" id=\"12,8\" style=\"stroke-width:nan\"></path><path d=\"M 94.8 97.2 L 94.8 124.1 L 134.2 124.1\" id=\"11,9\" style=\"stroke-width:nan\"></path><path d=\"M 94.8 97.2 L 94.8 70.3 L 134.2 70.3\" id=\"11,10\" style=\"stroke-width:nan\"></path><path d=\"M 55.5 140.9 L 55.5 97.2 L 94.8 97.2\" id=\"12,11\" style=\"stroke-width:nan\"></path></g><g class=\"toytree-Nodes\" style=\"fill:rgba(40.0%,76.1%,64.7%,1.000);stroke:#262626;stroke-width:1.0\"><g id=\"node-7\" transform=\"translate(134.156,204.660)\"><circle r=\"7.5\"></circle></g><g id=\"node-8\" transform=\"translate(94.842,184.512)\"><circle r=\"7.5\"></circle></g><g id=\"node-9\" transform=\"translate(134.156,124.068)\"><circle r=\"7.5\"></circle></g><g id=\"node-10\" transform=\"translate(134.156,70.340)\"><circle r=\"7.5\"></circle></g><g id=\"node-11\" transform=\"translate(94.842,97.204)\"><circle r=\"7.5\"></circle></g><g id=\"node-12\" transform=\"translate(55.528,140.858)\"><circle r=\"7.5\"></circle></g></g><g class=\"toytree-NodeLabels\" style=\"font-family:Helvetica;font-size:9.0px;font-weight:300;stroke:none;vertical-align:baseline;white-space:pre\"><g class=\"toytree-NodeLabel\" transform=\"translate(134.1556941769788,204.66008771929825)\"><text x=\"-2.5020000000000002\" y=\"2.2995\" style=\"fill:rgb(16.1%,15.3%,14.1%);fill-opacity:1.0\">7</text></g><g class=\"toytree-NodeLabel\" transform=\"translate(94.84208521839017,184.5120614035088)\"><text x=\"-2.5020000000000002\" y=\"2.2995\" style=\"fill:rgb(16.1%,15.3%,14.1%);fill-opacity:1.0\">8</text></g><g class=\"toytree-NodeLabel\" transform=\"translate(134.1556941769788,124.06798245614036)\"><text x=\"-2.5020000000000002\" y=\"2.2995\" style=\"fill:rgb(16.1%,15.3%,14.1%);fill-opacity:1.0\">9</text></g><g class=\"toytree-NodeLabel\" transform=\"translate(134.1556941769788,70.33991228070177)\"><text x=\"-5.0040000000000004\" y=\"2.2995\" style=\"fill:rgb(16.1%,15.3%,14.1%);fill-opacity:1.0\">10</text></g><g class=\"toytree-NodeLabel\" transform=\"translate(94.84208521839017,97.20394736842107)\"><text x=\"-5.0040000000000004\" y=\"2.2995\" style=\"fill:rgb(16.1%,15.3%,14.1%);fill-opacity:1.0\">11</text></g><g class=\"toytree-NodeLabel\" transform=\"translate(55.52847625980153,140.85800438596493)\"><text x=\"-5.0040000000000004\" y=\"2.2995\" style=\"fill:rgb(16.1%,15.3%,14.1%);fill-opacity:1.0\">12</text></g></g><g class=\"toytree-TipLabels\" style=\"fill:rgb(16.1%,15.3%,14.1%);fill-opacity:1.0;font-family:Helvetica;font-size:11.0px;font-weight:300;stroke:none;vertical-align:baseline;white-space:pre\"><g class=\"toytree-TipLabel\" transform=\"translate(173.46930313556743,218.09210526315792)\"><text x=\"15.0\" y=\"2.8104999999999993\" style=\"\">r0</text></g><g class=\"toytree-TipLabel\" transform=\"translate(173.46930313556743,191.2280701754386)\"><text x=\"15.0\" y=\"2.8104999999999993\" style=\"\">r1</text></g><g class=\"toytree-TipLabel\" transform=\"translate(173.46930313556743,164.3640350877193)\"><text x=\"15.0\" y=\"2.8104999999999993\" style=\"\">r2</text></g><g class=\"toytree-TipLabel\" transform=\"translate(173.46930313556743,137.5)\"><text x=\"15.0\" y=\"2.8104999999999993\" style=\"\">r3</text></g><g class=\"toytree-TipLabel\" transform=\"translate(173.46930313556743,110.63596491228071)\"><text x=\"15.0\" y=\"2.8104999999999993\" style=\"\">r4</text></g><g class=\"toytree-TipLabel\" transform=\"translate(173.46930313556743,83.77192982456143)\"><text x=\"15.0\" y=\"2.8104999999999993\" style=\"\">r5</text></g><g class=\"toytree-TipLabel\" transform=\"translate(173.46930313556743,56.907894736842124)\"><text x=\"15.0\" y=\"2.8104999999999993\" style=\"\">r6</text></g></g></g></g></g></svg><div class=\"toyplot-behavior\"><script>(function()\n",
       "{\n",
       "var modules={};\n",
       "})();</script></div></div>"
      ]
     },
     "metadata": {},
     "output_type": "display_data"
    },
    {
     "data": {
      "text/html": [
       "<div class=\"toyplot\" id=\"tbd4936b45309418f95cc533de4d95896\" style=\"text-align:center\"><svg class=\"toyplot-canvas-Canvas\" xmlns:toyplot=\"http://www.sandia.gov/toyplot\" xmlns:xlink=\"http://www.w3.org/1999/xlink\" xmlns=\"http://www.w3.org/2000/svg\" width=\"260.0px\" height=\"275.0px\" viewBox=\"0 0 260.0 275.0\" preserveAspectRatio=\"xMidYMid meet\" style=\"background-color:transparent;border-color:#292724;border-style:none;border-width:1.0;fill:rgb(16.1%,15.3%,14.1%);fill-opacity:1.0;font-family:Helvetica;font-size:12px;opacity:1.0;stroke:rgb(16.1%,15.3%,14.1%);stroke-opacity:1.0;stroke-width:1.0\" id=\"t5cbf571c31934e24ba8067cc82430bdf\"><g class=\"toyplot-coordinates-Cartesian\" id=\"t62a3751d39184fabab10855bfcd79df8\"><clipPath id=\"tbdfdc124867a44cbae3300ee4064eb37\"><rect x=\"35.0\" y=\"35.0\" width=\"190.0\" height=\"205.0\"></rect></clipPath><g clip-path=\"url(#tbdfdc124867a44cbae3300ee4064eb37)\"><g class=\"toytree-mark-Toytree\" id=\"t4e479bbc7c8c4788901ae4e74e8750fa\"><g class=\"toytree-Edges\" style=\"fill:none;stroke-linecap:round;stroke-width:2.0\"><path d=\"M 85.5 176.2 L 85.5 218.3 L 175.3 218.3\" id=\"10,0\" style=\"stroke:rgb(0%,0%,0%);stroke-opacity:1.0;stroke-width:nan\"></path><path d=\"M 152.8 177.9 L 152.8 191.4 L 175.3 191.4\" id=\"7,1\" style=\"stroke:rgb(90.6%,16.1%,54.1%);stroke-opacity:1.0;stroke-width:nan\"></path><path d=\"M 152.8 177.9 L 152.8 164.4 L 175.3 164.4\" id=\"7,2\" style=\"stroke:rgb(90.6%,16.1%,54.1%);stroke-opacity:1.0;stroke-width:nan\"></path><path d=\"M 130.4 157.7 L 130.4 137.5 L 175.3 137.5\" id=\"8,3\" style=\"stroke:rgb(90.6%,16.1%,54.1%);stroke-opacity:1.0;stroke-width:nan\"></path><path d=\"M 108.0 134.1 L 108.0 110.6 L 175.3 110.6\" id=\"9,4\" style=\"stroke:rgb(0%,0%,0%);stroke-opacity:1.0;stroke-width:nan\"></path><path d=\"M 152.8 70.1 L 152.8 83.6 L 175.3 83.6\" id=\"11,5\" style=\"stroke:rgb(0%,0%,0%);stroke-opacity:1.0;stroke-width:nan\"></path><path d=\"M 152.8 70.1 L 152.8 56.7 L 175.3 56.7\" id=\"11,6\" style=\"stroke:rgb(0%,0%,0%);stroke-opacity:1.0;stroke-width:nan\"></path><path d=\"M 130.4 157.7 L 130.4 177.9 L 152.8 177.9\" id=\"8,7\" style=\"stroke:rgb(90.6%,16.1%,54.1%);stroke-opacity:1.0;stroke-width:nan\"></path><path d=\"M 108.0 134.1 L 108.0 157.7 L 130.4 157.7\" id=\"9,8\" style=\"stroke:rgb(90.6%,16.1%,54.1%);stroke-opacity:1.0;stroke-width:nan\"></path><path d=\"M 85.5 176.2 L 85.5 134.1 L 108.0 134.1\" id=\"10,9\" style=\"stroke:rgb(0%,0%,0%);stroke-opacity:1.0;stroke-width:nan\"></path><path d=\"M 63.1 123.2 L 63.1 176.2 L 85.5 176.2\" id=\"12,10\" style=\"stroke:rgb(0%,0%,0%);stroke-opacity:1.0;stroke-width:nan\"></path><path d=\"M 63.1 123.2 L 63.1 70.1 L 152.8 70.1\" id=\"12,11\" style=\"stroke:rgb(0%,0%,0%);stroke-opacity:1.0;stroke-width:nan\"></path></g><g class=\"toytree-Nodes\" style=\"stroke:#262626;stroke-width:1.5\"><g id=\"node-7\" style=\"fill:rgb(90.6%,16.1%,54.1%);fill-opacity:1.0\" transform=\"translate(152.824,177.924)\"><circle r=\"4.0\"></circle></g><g id=\"node-8\" style=\"fill:rgb(90.6%,16.1%,54.1%);fill-opacity:1.0\" transform=\"translate(130.390,157.712)\"><circle r=\"4.0\"></circle></g><g id=\"node-9\" style=\"fill:rgb(90.6%,16.1%,54.1%);fill-opacity:1.0\" transform=\"translate(107.957,134.131)\"><circle r=\"4.0\"></circle></g><g id=\"node-10\" style=\"fill:rgb(100%,100%,100%);fill-opacity:1.0\" transform=\"translate(85.523,176.239)\"><circle r=\"4.0\"></circle></g><g id=\"node-11\" style=\"fill:rgb(100%,100%,100%);fill-opacity:1.0\" transform=\"translate(152.824,70.127)\"><circle r=\"4.0\"></circle></g><g id=\"node-12\" style=\"fill:rgb(100%,100%,100%);fill-opacity:1.0\" transform=\"translate(63.090,123.183)\"><circle r=\"4.0\"></circle></g></g><g class=\"toytree-NodeLabels\" style=\"font-family:Helvetica;font-size:12.0px;font-weight:300;stroke:none;vertical-align:baseline;white-space:pre\"><g class=\"toytree-NodeLabel\" transform=\"translate(152.82399334005171,177.9237064413939)\"><text x=\"-15.336\" y=\"-5.934\" style=\"fill:rgb(16.1%,15.3%,14.1%);fill-opacity:1.0\">7</text></g><g class=\"toytree-NodeLabel\" transform=\"translate(130.3904832844061,157.71185322069692)\"><text x=\"-15.336\" y=\"-5.934\" style=\"fill:rgb(16.1%,15.3%,14.1%);fill-opacity:1.0\">8</text></g><g class=\"toytree-NodeLabel\" transform=\"translate(107.95697322876046,134.1313577965505)\"><text x=\"-15.336\" y=\"-5.934\" style=\"fill:rgb(16.1%,15.3%,14.1%);fill-opacity:1.0\">9</text></g><g class=\"toytree-NodeLabel\" transform=\"translate(85.52346317311485,176.23938533966913)\"><text x=\"-18.672\" y=\"-5.934\" style=\"fill:rgb(16.1%,15.3%,14.1%);fill-opacity:1.0\">10</text></g><g class=\"toytree-NodeLabel\" transform=\"translate(152.82399334005171,70.12715593101024)\"><text x=\"-18.672\" y=\"-5.934\" style=\"fill:rgb(16.1%,15.3%,14.1%);fill-opacity:1.0\">11</text></g><g class=\"toytree-NodeLabel\" transform=\"translate(63.08995311746922,123.18327063533968)\"><text x=\"-18.672\" y=\"-5.934\" style=\"fill:rgb(16.1%,15.3%,14.1%);fill-opacity:1.0\">12</text></g></g><g class=\"toytree-TipLabels\" style=\"fill:rgb(16.1%,15.3%,14.1%);fill-opacity:1.0;font-family:Helvetica;font-size:11.0px;font-weight:300;stroke:none;vertical-align:baseline;white-space:pre\"><g class=\"toytree-TipLabel\" transform=\"translate(175.25750339569734,218.34741288278775)\"><text x=\"15.0\" y=\"2.8104999999999993\" style=\"\">r3</text></g><g class=\"toytree-TipLabel\" transform=\"translate(175.25750339569734,191.39827525519186)\"><text x=\"15.0\" y=\"2.8104999999999993\" style=\"\">r0</text></g><g class=\"toytree-TipLabel\" transform=\"translate(175.25750339569734,164.44913762759592)\"><text x=\"15.0\" y=\"2.8104999999999993\" style=\"\">r1</text></g><g class=\"toytree-TipLabel\" transform=\"translate(175.25750339569734,137.5)\"><text x=\"15.0\" y=\"2.8104999999999993\" style=\"\">r2</text></g><g class=\"toytree-TipLabel\" transform=\"translate(175.25750339569734,110.55086237240408)\"><text x=\"15.0\" y=\"2.8104999999999993\" style=\"\">r4</text></g><g class=\"toytree-TipLabel\" transform=\"translate(175.25750339569734,83.60172474480817)\"><text x=\"15.0\" y=\"2.8104999999999993\" style=\"\">r5</text></g><g class=\"toytree-TipLabel\" transform=\"translate(175.25750339569734,56.65258711721226)\"><text x=\"15.0\" y=\"2.8104999999999993\" style=\"\">r6</text></g></g></g></g></g></svg><div class=\"toyplot-behavior\"><script>(function()\n",
       "{\n",
       "var modules={};\n",
       "})();</script></div></div>"
      ]
     },
     "metadata": {},
     "output_type": "display_data"
    }
   ],
   "source": [
    "tree = toytree.rtree.unittree(7, seed=42)\n",
    "to = tree.draw(node_labels=\"idx\", node_sizes=15)\n",
    "tm = spr(tree, highlight=True, seed=None).draw()"
   ]
  },
  {
   "cell_type": "markdown",
   "id": "1b0baed8-53d2-4969-bac6-600b22893332",
   "metadata": {},
   "source": [
    "# Heuristic search for the best tree"
   ]
  },
  {
   "cell_type": "markdown",
   "id": "fe321880-3ada-4419-915d-f6372aeb8fca",
   "metadata": {},
   "source": [
    "1. use one of the rearragement algorithm\n",
    "2. do one rearragment\n",
    "3. test some criterion\n",
    "4. Use that tree as the new original tree\n",
    "5. Go again, if find not improvement stop\n",
    "\n",
    "option for multiple starts"
   ]
  }
 ],
 "metadata": {
  "kernelspec": {
   "display_name": "Python 3 (ipykernel)",
   "language": "python",
   "name": "python3"
  },
  "language_info": {
   "codemirror_mode": {
    "name": "ipython",
    "version": 3
   },
   "file_extension": ".py",
   "mimetype": "text/x-python",
   "name": "python",
   "nbconvert_exporter": "python",
   "pygments_lexer": "ipython3",
   "version": "3.8.10"
  }
 },
 "nbformat": 4,
 "nbformat_minor": 5
}
